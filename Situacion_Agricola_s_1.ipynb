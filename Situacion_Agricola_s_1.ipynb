{
  "nbformat": 4,
  "nbformat_minor": 0,
  "metadata": {
    "colab": {
      "provenance": [],
      "authorship_tag": "ABX9TyPgIfRg6j1XoZXD3TSCKwwo",
      "include_colab_link": true
    },
    "kernelspec": {
      "name": "python3",
      "display_name": "Python 3"
    },
    "language_info": {
      "name": "python"
    }
  },
  "cells": [
    {
      "cell_type": "markdown",
      "metadata": {
        "id": "view-in-github",
        "colab_type": "text"
      },
      "source": [
        "<a href=\"https://colab.research.google.com/github/justorfc/Situacion_Agricola_s_1/blob/main/Situacion_Agricola_s_1.ipynb\" target=\"_parent\"><img src=\"https://colab.research.google.com/assets/colab-badge.svg\" alt=\"Open In Colab\"/></a>"
      ]
    },
    {
      "cell_type": "markdown",
      "source": [
        "# Situación de Interés en Ingeniería Agrícola\n",
        "\n",
        "Un agricultor necesita saber cuántos kilogramos\n",
        " de semilla de maíz debe comprar para sembrar un lote rectangular. Conoce la densidad de siembra recomendada (kg por hectárea) y las dimensiones del lote (largo y ancho en metros)."
      ],
      "metadata": {
        "id": "i2bECb03S5WV"
      }
    },
    {
      "cell_type": "code",
      "execution_count": 6,
      "metadata": {
        "colab": {
          "base_uri": "https://localhost:8080/"
        },
        "id": "1oHNtjprSjmM",
        "outputId": "b639d678-979a-45c1-dfe1-86974c9fcb16"
      },
      "outputs": [
        {
          "output_type": "stream",
          "name": "stdout",
          "text": [
            "Bienvenido al programa de cálculo de semillas de maíz.\n",
            "Ingrese el largo del lote en metros: 123\n",
            "Ingrese el ancho del lote en metros: 234\n",
            "Ingrese la densidad de siembra en kg/hectárea: 10000\n",
            "Los kg de semillas son 28782.0\n"
          ]
        }
      ],
      "source": [
        "#  1. Saludar al usuario y explicar qué hace el programa.\n",
        "print(\"Bienvenido al programa de cálculo de semillas de maíz.\")\n",
        "\n",
        "# 2. Pedir al usuario que ingrese el largo del lote en metros (input sin convertir NO USAR FLOAT).\n",
        "largo = input(\"Ingrese el largo del lote en metros: \")\n",
        "\n",
        "# 3. Pedir el ancho del lote en metros (input NO USAR FLOAT).\n",
        "ancho = input(\"Ingrese el ancho del lote en metros: \")\n",
        "\n",
        "# 4. Pedir la densidad de siembra en kg/hectárea (input).\n",
        "densidad = input(\"Ingrese la densidad de siembra en kg/hectárea: \")\n",
        "\n",
        "# 5.  Convertir las entradas de texto a números decimales (float).\n",
        "largo = float(largo)\n",
        "ancho = float(ancho)\n",
        "densidad = float(densidad)\n",
        "\n",
        "# 6. Calcular el área en metros cuadrados (largo * ancho).\n",
        "area = largo * ancho\n",
        "\n",
        "# 7. Convertir el área a hectáreas (1 hectárea = 10,000 m²).\n",
        "area_hect = area / 10000\n",
        "\n",
        "# 8. Calcular la cantidad de semillas en kilogramos (area_hect * densidad).\n",
        "semillas = area_hect * densidad\n",
        "\n",
        "# 9. Mostrar el resultado final al usuario de forma clara (print).\n",
        "print(f\"Los kg de semillas son {semillas}\")"
      ]
    },
    {
      "cell_type": "markdown",
      "metadata": {
        "id": "8fd86f73"
      },
      "source": [
        "## Explicación del código anterior\n",
        "\n",
        "Este código calcula la cantidad de semilla de maíz necesaria para un lote de terreno rectangular.\n",
        "\n",
        "1. Saluda al usuario y explica el propósito del programa.\n",
        "2. Solicita al usuario que introduzca el largo y el ancho del lote en metros, y la densidad de siembra requerida en kilogramos por hectárea.\n",
        "3. Convierte la entrada del usuario (que inicialmente se lee como texto) a números que pueden ser utilizados en los cálculos.\n",
        "4. Calcula el área del lote en metros cuadrados.\n",
        "5. Convierte el área de metros cuadrados a hectáreas (ya que 1 hectárea son 10,000 metros cuadrados).\n",
        "6. Calcula la cantidad total de semilla necesaria en kilogramos multiplicando el área en hectáreas por la densidad de siembra.\n",
        "7. Finalmente, muestra al usuario la cantidad de semilla calculada."
      ]
    }
  ]
}
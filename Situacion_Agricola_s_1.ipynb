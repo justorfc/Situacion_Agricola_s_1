{
  "nbformat": 4,
  "nbformat_minor": 0,
  "metadata": {
    "colab": {
      "provenance": [],
      "authorship_tag": "ABX9TyPYkV+qC+F4lMg+BCSIqPpy",
      "include_colab_link": true
    },
    "kernelspec": {
      "name": "python3",
      "display_name": "Python 3"
    },
    "language_info": {
      "name": "python"
    }
  },
  "cells": [
    {
      "cell_type": "markdown",
      "metadata": {
        "id": "view-in-github",
        "colab_type": "text"
      },
      "source": [
        "<a href=\"https://colab.research.google.com/github/justorfc/Situacion_Agricola_s_1/blob/main/Situacion_Agricola_s_1.ipynb\" target=\"_parent\"><img src=\"https://colab.research.google.com/assets/colab-badge.svg\" alt=\"Open In Colab\"/></a>"
      ]
    },
    {
      "cell_type": "markdown",
      "source": [
        "# Situación de Interés en Ingeniería Agrícola\n",
        "\n",
        "Un agricultor necesita saber cuántos kilogramos\n",
        " de semilla de maíz debe comprar para sembrar un lote rectangular. Conoce la densidad de siembra recomendada (kg por hectárea) y las dimensiones del lote (largo y ancho en metros)."
      ],
      "metadata": {
        "id": "i2bECb03S5WV"
      }
    },
    {
      "cell_type": "code",
      "execution_count": 6,
      "metadata": {
        "colab": {
          "base_uri": "https://localhost:8080/"
        },
        "id": "1oHNtjprSjmM",
        "outputId": "b639d678-979a-45c1-dfe1-86974c9fcb16"
      },
      "outputs": [
        {
          "output_type": "stream",
          "name": "stdout",
          "text": [
            "Bienvenido al programa de cálculo de semillas de maíz.\n",
            "Ingrese el largo del lote en metros: 123\n",
            "Ingrese el ancho del lote en metros: 234\n",
            "Ingrese la densidad de siembra en kg/hectárea: 10000\n",
            "Los kg de semillas son 28782.0\n"
          ]
        }
      ],
      "source": [
        "#  1. Saludar al usuario y explicar qué hace el programa.\n",
        "print(\"Bienvenido al programa de cálculo de semillas de maíz.\")\n",
        "\n",
        "# 2. Pedir al usuario que ingrese el largo del lote en metros (input sin convertir NO USAR FLOAT).\n",
        "largo = input(\"Ingrese el largo del lote en metros: \")\n",
        "\n",
        "# 3. Pedir el ancho del lote en metros (input NO USAR FLOAT).\n",
        "ancho = input(\"Ingrese el ancho del lote en metros: \")\n",
        "\n",
        "# 4. Pedir la densidad de siembra en kg/hectárea (input).\n",
        "densidad = input(\"Ingrese la densidad de siembra en kg/hectárea: \")\n",
        "\n",
        "# 5.  Convertir las entradas de texto a números decimales (float).\n",
        "largo = float(largo)\n",
        "ancho = float(ancho)\n",
        "densidad = float(densidad)\n",
        "\n",
        "# 6. Calcular el área en metros cuadrados (largo * ancho).\n",
        "area = largo * ancho\n",
        "\n",
        "# 7. Convertir el área a hectáreas (1 hectárea = 10,000 m²).\n",
        "area_hect = area / 10000\n",
        "\n",
        "# 8. Calcular la cantidad de semillas en kilogramos (area_hect * densidad).\n",
        "semillas = area_hect * densidad\n",
        "\n",
        "# 9. Mostrar el resultado final al usuario de forma clara (print).\n",
        "print(f\"Los kg de semillas son {semillas}\")"
      ]
    },
    {
      "cell_type": "markdown",
      "metadata": {
        "id": "8fd86f73"
      },
      "source": [
        "## Explicación del código anterior\n",
        "\n",
        "Este código calcula la cantidad de semilla de maíz necesaria para un lote de terreno rectangular.\n",
        "\n",
        "1. Saluda al usuario y explica el propósito del programa.\n",
        "2. Solicita al usuario que introduzca el largo y el ancho del lote en metros, y la densidad de siembra requerida en kilogramos por hectárea.\n",
        "3. Convierte la entrada del usuario (que inicialmente se lee como texto) a números que pueden ser utilizados en los cálculos.\n",
        "4. Calcula el área del lote en metros cuadrados.\n",
        "5. Convierte el área de metros cuadrados a hectáreas (ya que 1 hectárea son 10,000 metros cuadrados).\n",
        "6. Calcula la cantidad total de semilla necesaria en kilogramos multiplicando el área en hectáreas por la densidad de siembra.\n",
        "7. Finalmente, muestra al usuario la cantidad de semilla calculada."
      ]
    },
    {
      "cell_type": "markdown",
      "source": [
        "## Concepto de variable\n",
        "\n",
        "Una variable en Python es como una caja o un contenedor con una etiqueta. Sirve para almacenar diferentes tipos de información, como números, texto o listas, para poder usarla más adelante en tu programa.\n",
        "\n",
        "Analogía: Piensa en tu mochila como una variable. Puedes guardar diferentes cosas dentro de ella (libros, lápices, una botella de agua), y cada cosa es un valor que estás almacenando. La etiqueta de la mochila (o el nombre que le das a la variable en Python) te ayuda a identificar lo que contiene. Cuando necesitas algo de tu mochila (cuando usas la variable en tu código), sabes dónde buscarlo gracias a la etiqueta.\n",
        "\n",
        "En el código anterior, largo, ancho, densidad, area, area_hect, y semillas son variables que almacenan los valores que el usuario ingresa o los resultados de los cálculos."
      ],
      "metadata": {
        "id": "CyktpKXfa87w"
      }
    },
    {
      "cell_type": "markdown",
      "source": [
        "# Situación de Interés en Ingeniería Agroindustrial\n",
        "\n",
        "En una planta de procesamiento de mango,se quiere calcular el rendimiento de un lote de fruta. Se necesita un programa simple que tome el\n",
        " peso inicial de los mangos antes de pelarlos y deshuesarlos, y el peso final de la pulpa obtenida, para expresar el rendimiento como un porcentaje."
      ],
      "metadata": {
        "id": "zYiZovkragMc"
      }
    },
    {
      "cell_type": "code",
      "source": [
        "# 1. Explicar el propósito de la calculadora.\n",
        "print(\"Bienvenido a la calculadora de rendimiento de mangos.\")\n",
        "\n",
        "# 2. Pedir el peso inicial del lote de mangos en kg (input).\n",
        "peso_inicial = input(\"Ingrese el peso inicial del lote de mangos en kg: \")\n",
        "\n",
        "# 3. Pedir el peso final de la pulpa de la fruta en kg (input).\n",
        "peso_final = input(\"Ingrese el peso final de la pulpa de la fruta en kg: \")\n",
        "\n",
        "# 4. Convertir ambos pesos a números decimales (float).\n",
        "peso_inicial = float(peso_inicial)\n",
        "peso_final = float(peso_final)\n",
        "\n",
        "# 5. Calcular el rendimiento usando la fórmula: (peso_final / peso_inicial) * 100.\n",
        "rendimiento = (peso_final / peso_inicial) * 100\n",
        "\n",
        "# 6. Mostrar el resultado al usuario.\n",
        "print(f\"El rendimiento del lote de mangos es de {rendimiento:.2f}%\")\n"
      ],
      "metadata": {
        "colab": {
          "base_uri": "https://localhost:8080/"
        },
        "id": "mNbK8VPUarWG",
        "outputId": "fdfab4f7-43d3-4e99-b4f9-7fda21f11f87"
      },
      "execution_count": 7,
      "outputs": [
        {
          "output_type": "stream",
          "name": "stdout",
          "text": [
            "Bienvenido a la calculadora de rendimiento de mangos.\n",
            "Ingrese el peso inicial del lote de mangos en kg: 1000\n",
            "Ingrese el peso final de la pulpa de la fruta en kg: 340\n",
            "El rendimiento del lote de mangos es de 34.00%\n"
          ]
        }
      ]
    },
    {
      "cell_type": "markdown",
      "metadata": {
        "id": "d3605759"
      },
      "source": [
        "## Explicación del código\n",
        "\n",
        "Este código es una calculadora simple para determinar el rendimiento de un lote de mangos en una planta de procesamiento.\n",
        "\n",
        "1. Explica al usuario el propósito de la calculadora.\n",
        "2. Solicita al usuario que ingrese el peso inicial del lote de mangos antes de ser procesados, en kilogramos.\n",
        "3. Solicita al usuario que ingrese el peso final de la pulpa obtenida después de pelar y deshuesar los mangos, también en kilogramos.\n",
        "4. Convierte ambos pesos ingresados por el usuario a números decimales (float) para poder realizar cálculos.\n",
        "5. Calcula el rendimiento utilizando la fórmula: (peso_final / peso_inicial) * 100. Esto da el rendimiento como un porcentaje.\n",
        "6. Finalmente, muestra al usuario el rendimiento calculado del lote de mangos, formateado a dos decimales."
      ]
    },
    {
      "cell_type": "markdown",
      "metadata": {
        "id": "afbff6b0"
      },
      "source": [
        "## Las f-string\n",
        "\n",
        "En la línea `print(f\"El rendimiento del lote de mangos es de {rendimiento:.2f}%\")`, la `f` al inicio de la cadena de texto (justo antes de las comillas) indica que es una \"f-string\".\n",
        "\n",
        "Las f-strings son una forma conveniente de incrustar expresiones de Python dentro de cadenas de texto. Lo que está dentro de las llaves `{}` dentro de una f-string es evaluado como código Python y su resultado se inserta en la cadena.\n",
        "\n",
        "En este caso específico:\n",
        "- `f` indica que es una f-string.\n",
        "- `{rendimiento:.2f}` significa que se va a insertar el valor de la variable `rendimiento`.\n",
        "- `:.2f` es un especificador de formato que le dice a Python que muestre el valor de `rendimiento` como un número de punto flotante (`f`) con exactamente dos decimales (`.2`).\n",
        "\n",
        "Así, la f-string toma el valor calculado del `rendimiento`, lo formatea a dos decimales y lo inserta en la cadena para mostrar el resultado final al usuario."
      ]
    }
  ]
}